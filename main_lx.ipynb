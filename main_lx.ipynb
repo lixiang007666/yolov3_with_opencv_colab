{
  "nbformat": 4,
  "nbformat_minor": 0,
  "metadata": {
    "colab": {
      "name": "test3.ipynb",
      "provenance": [],
      "collapsed_sections": []
    },
    "kernelspec": {
      "name": "python3",
      "display_name": "Python 3"
    },
    "language_info": {
      "name": "python"
    },
    "accelerator": "GPU"
  },
  "cells": [
    {
      "cell_type": "code",
      "metadata": {
        "colab": {
          "base_uri": "https://localhost:8080/"
        },
        "id": "FQoMS4X1FEiS",
        "outputId": "bb572abf-0f5e-47fc-efd7-c1fc10ad1f5c"
      },
      "source": [
        "from google.colab import drive\n",
        "drive.mount('/content/drive')"
      ],
      "execution_count": 1,
      "outputs": [
        {
          "output_type": "stream",
          "text": [
            "Mounted at /content/drive\n"
          ],
          "name": "stdout"
        }
      ]
    },
    {
      "cell_type": "code",
      "metadata": {
        "colab": {
          "base_uri": "https://localhost:8080/"
        },
        "id": "pgspHmMhFYAr",
        "outputId": "5c3cee3d-56c8-4041-9ea4-6a71e311b85d"
      },
      "source": [
        "import os\n",
        "os.chdir(\"/content/drive/My Drive\")\n",
        "!ls"
      ],
      "execution_count": 2,
      "outputs": [
        {
          "output_type": "stream",
          "text": [
            "Mask-Wearing-Detection\tpytorch.ipynb\t\t test3.ipynb\n",
            "Optic-Disc-Unet\t\tPyTorch_Tutorial-master  test.ipynb\n",
            "Optic-Disc-Unet-master\ttest2.ipynb\n"
          ],
          "name": "stdout"
        }
      ]
    },
    {
      "cell_type": "code",
      "metadata": {
        "colab": {
          "base_uri": "https://localhost:8080/"
        },
        "id": "3oULkWmMKdSU",
        "outputId": "af7cb7da-8624-4814-c51d-d7b297265b1c"
      },
      "source": [
        "!git clone https://github.com/JimmyHHua/yolov3_with_opencv.git"
      ],
      "execution_count": 4,
      "outputs": [
        {
          "output_type": "stream",
          "text": [
            "Cloning into 'yolov3_with_opencv'...\n",
            "remote: Enumerating objects: 53, done.\u001b[K\n",
            "remote: Total 53 (delta 0), reused 0 (delta 0), pack-reused 53\u001b[K\n",
            "Unpacking objects: 100% (53/53), done.\n"
          ],
          "name": "stdout"
        }
      ]
    },
    {
      "cell_type": "code",
      "metadata": {
        "colab": {
          "base_uri": "https://localhost:8080/"
        },
        "id": "tRhHuA4tFko0",
        "outputId": "e9dd9302-c76b-4764-c129-b7e870562233"
      },
      "source": [
        "os.chdir(\"/content/drive/My Drive/yolov3_with_opencv\")\n",
        "!ls"
      ],
      "execution_count": 13,
      "outputs": [
        {
          "output_type": "stream",
          "text": [
            " capture\t    getModels.sh    object_detection_yolo.py\n",
            "'coco.names'$'\\r'   gitattributes   README.md\n",
            " demo\t\t    LICENSE\t   'yolov3.cfg'$'\\r'\n"
          ],
          "name": "stdout"
        }
      ]
    },
    {
      "cell_type": "code",
      "metadata": {
        "colab": {
          "base_uri": "https://localhost:8080/"
        },
        "id": "0coJ3Yf8Fs_4",
        "outputId": "3920ab35-70c7-456a-aa7e-23ef4f5d9b2f"
      },
      "source": [
        "!bash getModels.sh"
      ],
      "execution_count": 16,
      "outputs": [
        {
          "output_type": "stream",
          "text": [
            "--2021-08-08 00:37:46--  https://pjreddie.com/media/files/yolov3.weights\n",
            "Resolving pjreddie.com (pjreddie.com)... 128.208.4.108\n",
            "Connecting to pjreddie.com (pjreddie.com)|128.208.4.108|:443... connected.\n",
            "HTTP request sent, awaiting response... 200 OK\n",
            "Length: 248007048 (237M) [application/octet-stream]\n",
            "Saving to: ‘yolov3.weights’\n",
            "\n",
            "yolov3.weights      100%[===================>] 236.52M  19.7MB/s    in 14s     \n",
            "\n",
            "2021-08-08 00:38:00 (17.3 MB/s) - ‘yolov3.weights’ saved [248007048/248007048]\n",
            "\n",
            "--2021-08-08 00:38:00--  https://github.com/pjreddie/darknet/blob/master/cfg/yolov3.cfg?raw=true\n",
            "Resolving github.com (github.com)... 140.82.121.3\n",
            "Connecting to github.com (github.com)|140.82.121.3|:443... connected.\n",
            "HTTP request sent, awaiting response... 302 Found\n",
            "Location: https://github.com/pjreddie/darknet/raw/master/cfg/yolov3.cfg [following]\n",
            "--2021-08-08 00:38:00--  https://github.com/pjreddie/darknet/raw/master/cfg/yolov3.cfg\n",
            "Reusing existing connection to github.com:443.\n",
            "HTTP request sent, awaiting response... 302 Found\n",
            "Location: https://raw.githubusercontent.com/pjreddie/darknet/master/cfg/yolov3.cfg [following]\n",
            "--2021-08-08 00:38:00--  https://raw.githubusercontent.com/pjreddie/darknet/master/cfg/yolov3.cfg\n",
            "Resolving raw.githubusercontent.com (raw.githubusercontent.com)... 185.199.108.133, 185.199.109.133, 185.199.110.133, ...\n",
            "Connecting to raw.githubusercontent.com (raw.githubusercontent.com)|185.199.108.133|:443... connected.\n",
            "HTTP request sent, awaiting response... 200 OK\n",
            "Length: 8342 (8.1K) [text/plain]\n",
            "Saving to: ‘./yolov3.cfg’\n",
            "\n",
            "./yolov3.cfg        100%[===================>]   8.15K  --.-KB/s    in 0.001s  \n",
            "\n",
            "2021-08-08 00:38:00 (6.72 MB/s) - ‘./yolov3.cfg’ saved [8342/8342]\n",
            "\n",
            "--2021-08-08 00:38:00--  https://github.com/pjreddie/darknet/blob/master/data/coco.names?raw=true\n",
            "Resolving github.com (github.com)... 140.82.121.3\n",
            "Connecting to github.com (github.com)|140.82.121.3|:443... connected.\n",
            "HTTP request sent, awaiting response... 302 Found\n",
            "Location: https://github.com/pjreddie/darknet/raw/master/data/coco.names [following]\n",
            "--2021-08-08 00:38:01--  https://github.com/pjreddie/darknet/raw/master/data/coco.names\n",
            "Reusing existing connection to github.com:443.\n",
            "HTTP request sent, awaiting response... 302 Found\n",
            "Location: https://raw.githubusercontent.com/pjreddie/darknet/master/data/coco.names [following]\n",
            "--2021-08-08 00:38:01--  https://raw.githubusercontent.com/pjreddie/darknet/master/data/coco.names\n",
            "Resolving raw.githubusercontent.com (raw.githubusercontent.com)... 185.199.108.133, 185.199.109.133, 185.199.110.133, ...\n",
            "Connecting to raw.githubusercontent.com (raw.githubusercontent.com)|185.199.108.133|:443... connected.\n",
            "HTTP request sent, awaiting response... 200 OK\n",
            "Length: 625 [text/plain]\n",
            "Saving to: ‘./coco.names’\n",
            "\n",
            "./coco.names        100%[===================>]     625  --.-KB/s    in 0s      \n",
            "\n",
            "2021-08-08 00:38:01 (34.1 MB/s) - ‘./coco.names’ saved [625/625]\n",
            "\n"
          ],
          "name": "stdout"
        }
      ]
    },
    {
      "cell_type": "code",
      "metadata": {
        "colab": {
          "base_uri": "https://localhost:8080/"
        },
        "id": "G0GDsmSKL83z",
        "outputId": "a364dcb1-a981-457b-b5bc-12cc4e396634"
      },
      "source": [
        "!python object_detection_yolo.py --image=/content/drive/MyDrive/yolov3_with_opencv/demo/dog.jpg"
      ],
      "execution_count": 18,
      "outputs": [
        {
          "output_type": "stream",
          "text": [
            "Done processing !!!\n",
            "Output file is stored as  /content/drive/MyDrive/yolov3_with_opencv/demo/dog_yolo_out_py.jpg\n"
          ],
          "name": "stdout"
        }
      ]
    },
    {
      "cell_type": "code",
      "metadata": {
        "id": "OA9cIjI1F3VL",
        "colab": {
          "base_uri": "https://localhost:8080/"
        },
        "outputId": "6497a5ed-e80e-468f-aaaa-e2872ce799f6"
      },
      "source": [
        "!nvidia-smi"
      ],
      "execution_count": null,
      "outputs": [
        {
          "output_type": "stream",
          "text": [
            "Tue Aug  3 04:43:19 2021       \n",
            "+-----------------------------------------------------------------------------+\n",
            "| NVIDIA-SMI 470.42.01    Driver Version: 460.32.03    CUDA Version: 11.2     |\n",
            "|-------------------------------+----------------------+----------------------+\n",
            "| GPU  Name        Persistence-M| Bus-Id        Disp.A | Volatile Uncorr. ECC |\n",
            "| Fan  Temp  Perf  Pwr:Usage/Cap|         Memory-Usage | GPU-Util  Compute M. |\n",
            "|                               |                      |               MIG M. |\n",
            "|===============================+======================+======================|\n",
            "|   0  Tesla P100-PCIE...  Off  | 00000000:00:04.0 Off |                    0 |\n",
            "| N/A   37C    P0    26W / 250W |      0MiB / 16280MiB |      0%      Default |\n",
            "|                               |                      |                  N/A |\n",
            "+-------------------------------+----------------------+----------------------+\n",
            "                                                                               \n",
            "+-----------------------------------------------------------------------------+\n",
            "| Processes:                                                                  |\n",
            "|  GPU   GI   CI        PID   Type   Process name                  GPU Memory |\n",
            "|        ID   ID                                                   Usage      |\n",
            "|=============================================================================|\n",
            "|  No running processes found                                                 |\n",
            "+-----------------------------------------------------------------------------+\n"
          ],
          "name": "stdout"
        }
      ]
    }
  ]
}